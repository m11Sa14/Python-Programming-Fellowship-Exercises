{
 "cells": [
  {
   "cell_type": "code",
   "execution_count": null,
   "metadata": {
    "vscode": {
     "languageId": "plaintext"
    }
   },
   "outputs": [],
   "source": [
    "# Tuple Exercises: Level 1\n",
    "\n",
    "# Creating an empty tuple \n",
    "empty_tuple = ()\n",
    "\n",
    "#Create a tuple containing names of your sisters and your brothers (imaginary siblings are fine)\n",
    "sisters = (\"Alice\", \"Jane\", \"Mary\")\n",
    "brothers = (\"John\", \"Paul\", \"Mark\")"
   ]
  },
  {
   "cell_type": "code",
   "execution_count": null,
   "metadata": {
    "vscode": {
     "languageId": "plaintext"
    }
   },
   "outputs": [],
   "source": [
    "# Joining brothers and sisters tuples and assign it to siblings\n",
    "siblings = sisters + brothers\n",
    "\n",
    "# How many siblings do you have?\n",
    "number_of_siblings = len(siblings)\n",
    "\n",
    "# Modify the siblings tuple and add the name of your father and mother and assign it to family_members\n",
    "parents = (\"Father\", \"Mother\")\n",
    "family_members = siblings + parents\n"
   ]
  },
  {
   "cell_type": "code",
   "execution_count": null,
   "metadata": {
    "vscode": {
     "languageId": "plaintext"
    }
   },
   "outputs": [],
   "source": [
    "# Tuple Exercises: Level 2\n",
    "\n",
    "# Unpacking siblings and parents from family_members\n",
    "*siblings, father, mother = family_members\n",
    "\n",
    "# Create fruits, vegetables and animal products tuples. Join the three tuples and assign it to a variable called food_stuff_tp\n",
    "fruits = (\"Apple\", \"Banana\", \"Mango\")\n",
    "vegetables = (\"Carrot\", \"Potato\", \"Tomato\")\n",
    "animal_products = (\"Milk\", \"Egg\", \"Cheese\")\n",
    "food_stuff_tp = fruits + vegetables + animal_products"
   ]
  },
  {
   "cell_type": "code",
   "execution_count": null,
   "metadata": {
    "vscode": {
     "languageId": "plaintext"
    }
   },
   "outputs": [],
   "source": [
    "# Changing the food_stuff_tp tuple to a food_stuff_lt list\n",
    "food_stuff_lt = list(food_stuff_tp)"
   ]
  },
  {
   "cell_type": "code",
   "execution_count": null,
   "metadata": {
    "vscode": {
     "languageId": "plaintext"
    }
   },
   "outputs": [],
   "source": [
    "# Slicing out the middle item or items from the food_stuff_tp tuple or food_stuff_lt list\n",
    "middle_index = len(food_stuff_lt) // 2\n",
    "if len(food_stuff_lt) % 2 == 0:\n",
    "    middle_items = food_stuff_lt[middle_index-1:middle_index+1]\n",
    "else:\n",
    "    middle_items = [food_stuff_lt[middle_index]]"
   ]
  },
  {
   "cell_type": "code",
   "execution_count": null,
   "metadata": {
    "vscode": {
     "languageId": "plaintext"
    }
   },
   "outputs": [],
   "source": [
    "# Slicing out the first three items and the last three items from food_stuff_lt list\n",
    "first_three = food_stuff_lt[:3]\n",
    "last_three = food_stuff_lt[-3:]"
   ]
  },
  {
   "cell_type": "code",
   "execution_count": null,
   "metadata": {
    "vscode": {
     "languageId": "plaintext"
    }
   },
   "outputs": [],
   "source": [
    "# Deleting the food_stuff_tp tuple completely\n",
    "del food_stuff_tp\n"
   ]
  },
  {
   "cell_type": "code",
   "execution_count": null,
   "metadata": {
    "vscode": {
     "languageId": "plaintext"
    }
   },
   "outputs": [],
   "source": [
    "# Checking if 'Estonia' is a nordic country\n",
    "nordic_countries = ('Denmark', 'Finland', 'Iceland', 'Norway', 'Sweden')\n",
    "is_estonia_nordic = 'Estonia' in nordic_countries\n",
    "\n",
    "# Checking if 'Iceland' is a nordic country\n",
    "is_iceland_nordic = 'Iceland' in nordic_countries\n",
    "\n"
   ]
  }
 ],
 "metadata": {
  "language_info": {
   "name": "python"
  }
 },
 "nbformat": 4,
 "nbformat_minor": 2
}
