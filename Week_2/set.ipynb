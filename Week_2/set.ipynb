{
 "cells": [
  {
   "cell_type": "code",
   "execution_count": null,
   "metadata": {},
   "outputs": [],
   "source": [
    "# Sets Exercises: Level 1\n",
    "\n",
    "# Finding the length of the set it_companies\n",
    "it_companies = {'Facebook', 'Google', 'Microsoft', 'Apple', 'IBM', 'Oracle', 'Amazon'}\n",
    "length_of_it_companies = len(it_companies)"
   ]
  },
  {
   "cell_type": "code",
   "execution_count": null,
   "metadata": {},
   "outputs": [],
   "source": [
    "# Adding 'Twitter' to it_companies\n",
    "it_companies.add('Twitter')\n",
    "\n",
    "# Inserting multiple IT companies at once to the set it_companies\n",
    "it_companies.update({'LinkedIn', 'Snapchat', 'WhatsApp'})"
   ]
  },
  {
   "cell_type": "code",
   "execution_count": null,
   "metadata": {},
   "outputs": [],
   "source": [
    "# Removing one of the companies from the set it_companies\n",
    "it_companies.remove('Apple')  # or use discard method"
   ]
  },
  {
   "cell_type": "code",
   "execution_count": null,
   "metadata": {},
   "outputs": [],
   "source": [
    "# What is the difference between remove and discard\n",
    "# remove will raise a KeyError if the item to remove is not found in the set.\n",
    "# discard will not raise an error if the item is not found in the set."
   ]
  },
  {
   "cell_type": "code",
   "execution_count": null,
   "metadata": {},
   "outputs": [],
   "source": [
    "# Sets Exercises: Level 2\n",
    "\n",
    "# Joining A and B\n",
    "A = {1, 2, 3, 4, 5}\n",
    "B = {4, 5, 6, 7, 8}\n",
    "A_B_union = A.union(B)"
   ]
  },
  {
   "cell_type": "code",
   "execution_count": null,
   "metadata": {},
   "outputs": [],
   "source": [
    "# To Find A intersection B\n",
    "A_B_intersection = A.intersection(B)\n",
    "\n",
    "# Is A subset of B\n",
    "is_subset = A.issubset(B)\n",
    "\n",
    "# Are A and B disjoint sets\n",
    "are_disjoint = A.isdisjoint(B)\n"
   ]
  },
  {
   "cell_type": "code",
   "execution_count": null,
   "metadata": {},
   "outputs": [],
   "source": [
    "# To Join A with B and B with A\n",
    "A_B_union = A.union(B)\n",
    "B_A_union = B.union(A)"
   ]
  },
  {
   "cell_type": "code",
   "execution_count": null,
   "metadata": {},
   "outputs": [],
   "source": [
    "# What is the symmetric difference between A and B\n",
    "A_B_symmetric_difference = A.symmetric_difference(B)\n",
    "\n",
    "# Deleting the sets completely\n",
    "del A\n",
    "del B"
   ]
  },
  {
   "cell_type": "code",
   "execution_count": null,
   "metadata": {},
   "outputs": [],
   "source": [
    "# Sets Exercises: Level 3\n",
    "\n",
    "# Converting the ages to a set and compare the length of the list and the set, which one is bigger?\n",
    "ages = [19, 22, 19, 24, 20, 25, 26, 24, 25, 24]\n",
    "ages_set = set(ages)\n",
    "list_length = len(ages)\n",
    "set_length = len(ages_set)\n",
    "bigger = 'list' if list_length > set_length else 'set'"
   ]
  },
  {
   "cell_type": "code",
   "execution_count": null,
   "metadata": {},
   "outputs": [],
   "source": [
    "# Explaining the difference between the following data types: string, list, tuple, and set\n",
    "\n",
    "# String: A sequence of characters enclosed in quotes. Immutable.\n",
    "# List: An ordered collection of items which can be of different types. Mutable and allows duplicates.\n",
    "# Tuple: Similar to lists, but immutable. Ordered collection of items.\n",
    "# Set: An unordered collection of unique items. Mutable but does not allow duplicates."
   ]
  },
  {
   "cell_type": "code",
   "execution_count": null,
   "metadata": {},
   "outputs": [],
   "source": [
    "# To count How many unique words have been used in the sentence?\n",
    "sentence = \"I am a teacher and I love to inspire and teach people.\"\n",
    "words = sentence.split()\n",
    "unique_words = set(words)\n",
    "number_of_unique_words = len(unique_words)"
   ]
  }
 ],
 "metadata": {
  "kernelspec": {
   "display_name": ".conda",
   "language": "python",
   "name": "python3"
  },
  "language_info": {
   "name": "python",
   "version": "3.12.7"
  }
 },
 "nbformat": 4,
 "nbformat_minor": 2
}
