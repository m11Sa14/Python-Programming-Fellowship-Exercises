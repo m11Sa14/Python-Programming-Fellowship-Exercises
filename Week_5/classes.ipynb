{
 "cells": [
  {
   "cell_type": "code",
   "execution_count": null,
   "metadata": {},
   "outputs": [],
   "source": [
    "# Classes Exercise Level 1\n",
    "import math\n",
    "from collections import Counter\n",
    "\n",
    "class Statistics:\n",
    "    def __init__(self, data):\n",
    "        self.data = data\n",
    "\n",
    "    def count(self):\n",
    "        return len(self.data)\n",
    "\n",
    "    def sum(self):\n",
    "        return sum(self.data)\n",
    "\n",
    "    def min(self):\n",
    "        return min(self.data)\n",
    "\n",
    "    def max(self):\n",
    "        return max(self.data)\n",
    "\n",
    "    def range(self):\n",
    "        return self.max() - self.min()\n",
    "\n",
    "    def mean(self):\n",
    "        return self.sum() / self.count()\n",
    "\n",
    "    def median(self):\n",
    "        sorted_data = sorted(self.data)\n",
    "        n = self.count()\n",
    "        mid = n // 2\n",
    "        if n % 2 == 0:\n",
    "            return (sorted_data[mid - 1] + sorted_data[mid]) / 2\n",
    "        else:\n",
    "            return sorted_data[mid]\n",
    "\n",
    "    def mode(self):\n",
    "        frequency = Counter(self.data)\n",
    "        mode_data = frequency.most_common(1)[0]\n",
    "        return {'mode': mode_data[0], 'count': mode_data[1]}\n",
    "\n",
    "    def var(self):\n",
    "        mean = self.mean()\n",
    "        return sum((x - mean) ** 2 for x in self.data) / self.count()\n",
    "\n",
    "    def std(self):\n",
    "        return math.sqrt(self.var())\n",
    "\n",
    "    def freq_dist(self):\n",
    "        frequency = Counter(self.data)\n",
    "        return sorted([(count / self.count() * 100, val) for val, count in frequency.items()], reverse=True)\n",
    "\n",
    "    def describe(self):\n",
    "        return {\n",
    "            'Count': self.count(),\n",
    "            'Sum': self.sum(),\n",
    "            'Min': self.min(),\n",
    "            'Max': self.max(),\n",
    "            'Range': self.range(),\n",
    "            'Mean': self.mean(),\n",
    "            'Median': self.median(),\n",
    "            'Mode': self.mode(),\n",
    "            'Variance': self.var(),\n",
    "            'Standard Deviation': self.std(),\n",
    "            'Frequency Distribution': self.freq_dist()\n",
    "        }"
   ]
  },
  {
   "cell_type": "code",
   "execution_count": null,
   "metadata": {},
   "outputs": [],
   "source": [
    "# instantiate the class and test the methods\n",
    "# Sample data\n",
    "ages = [31, 26, 34, 37, 27, 26, 32, 32, 26, 27, 27, 24, 32, 33, 27, 25, 26, 38, 37, 31, 34, 24, 33, 29, 26]\n",
    "\n",
    "# Create an instance of the Statistics class\n",
    "data = Statistics(ages)"
   ]
  },
  {
   "cell_type": "code",
   "execution_count": null,
   "metadata": {},
   "outputs": [],
   "source": [
    "# Test the methods\n",
    "print('Count:', data.count())\n",
    "print('Sum: ', data.sum())\n",
    "print('Min: ', data.min())\n",
    "print('Max: ', data.max())\n",
    "print('Range: ', data.range())\n",
    "print('Mean: ', data.mean())\n",
    "print('Median: ', data.median())\n",
    "print('Mode: ', data.mode())\n",
    "print('Variance: ', data.var())\n",
    "print('Standard Deviation: ', data.std())\n",
    "print('Frequency Distribution: ', data.freq_dist())"
   ]
  },
  {
   "cell_type": "code",
   "execution_count": null,
   "metadata": {},
   "outputs": [],
   "source": [
    "# Describe method to print all statistics\n",
    "print(data.describe())\n"
   ]
  },
  {
   "cell_type": "code",
   "execution_count": null,
   "metadata": {},
   "outputs": [],
   "source": [
    "# Exercises Level 2\n",
    "class PersonAccount:\n",
    "    def __init__(self, firstname, lastname):\n",
    "        self.firstname = firstname\n",
    "        self.lastname = lastname\n",
    "        self.incomes = []\n",
    "        self.expenses = []\n",
    "\n",
    "    def add_income(self, amount, description):\n",
    "        self.incomes.append({'amount': amount, 'description': description})\n",
    "\n",
    "    def add_expense(self, amount, description):\n",
    "        self.expenses.append({'amount': amount, 'description': description})\n",
    "\n",
    "    def total_income(self):\n",
    "        return sum(income['amount'] for income in self.incomes)\n",
    "\n",
    "    def total_expense(self):\n",
    "        return sum(expense['amount'] for expense in self.expenses)\n",
    "\n",
    "    def account_balance(self):\n",
    "        return self.total_income() - self.total_expense()\n",
    "\n",
    "    def account_info(self):\n",
    "        return f'Account holder: {self.firstname} {self.lastname}\\nTotal Income: {self.total_income()}\\nTotal Expenses: {self.total_expense()}\\nAccount Balance: {self.account_balance()}'\n"
   ]
  },
  {
   "cell_type": "code",
   "execution_count": null,
   "metadata": {},
   "outputs": [],
   "source": [
    "# Creating an instance to test the methods\n",
    "# Create an instance of PersonAccount\n",
    "account = PersonAccount('John', 'Doe')\n",
    "\n",
    "# Add incomes\n",
    "account.add_income(5000, 'Salary')\n",
    "account.add_income(200, 'Freelance')\n",
    "\n",
    "# Add expenses\n",
    "account.add_expense(1500, 'Rent')\n",
    "account.add_expense(300, 'Groceries')\n",
    "\n",
    "# Test the methods\n",
    "print(account.account_info())\n"
   ]
  },
  {
   "cell_type": "code",
   "execution_count": null,
   "metadata": {},
   "outputs": [],
   "source": [
    "new "
   ]
  }
 ],
 "metadata": {
  "kernelspec": {
   "display_name": ".conda",
   "language": "python",
   "name": "python3"
  },
  "language_info": {
   "name": "python",
   "version": "3.12.7"
  }
 },
 "nbformat": 4,
 "nbformat_minor": 2
}
