{
 "cells": [
  {
   "cell_type": "code",
   "execution_count": null,
   "metadata": {},
   "outputs": [],
   "source": [
    "first_name = \"MUHAMMED\"\n",
    "last_name = \"KABIR\"\n",
    "full_name = first_name + \" \" + last_name \n",
    "country = \"NIGERIA\"\n",
    "city = \"KADUNA\"\n",
    "age = \"25\"\n",
    "year = 2024\n",
    "is_married = False\n",
    "is_true = True\n",
    "is_light_on = True "
   ]
  },
  {
   "cell_type": "code",
   "execution_count": 1,
   "metadata": {},
   "outputs": [
    {
     "name": "stdout",
     "output_type": "stream",
     "text": [
      "MUHAMMED KABIR NIGERIA 25 False\n",
      "First name: MUHAMMED\n",
      "Last name: KABIR\n",
      "County: NIGERIA\n",
      "Age: 25\n",
      "Is married: False\n"
     ]
    }
   ],
   "source": [
    "# Declaring multiple variables in one line \n",
    "first_name, last_name, country, age, is_married = \"MUHAMMED\", \"KABIR\", \"NIGERIA\", \"25\", \"False\"\n",
    "print(first_name, last_name, country, age, is_married)\n",
    "print('First name:', first_name)\n",
    "print('Last name:', last_name)\n",
    "print('County:', country)\n",
    "print('Age:', age)\n",
    "print('Is married:', is_married)"
   ]
  },
  {
   "cell_type": "code",
   "execution_count": null,
   "metadata": {},
   "outputs": [],
   "source": [
    "# Checking the Data Types using the type() built in functions\n",
    "print(type(first_name))\n",
    "print(type(last_name))\n",
    "print(type(full_name))\n",
    "print(type(country))\n",
    "print(type(city))\n",
    "print(type(age))\n",
    "print(type(year))\n",
    "print(type(is_married))\n",
    "print(type(is_true))\n",
    "print(type(is_light_on))"
   ]
  },
  {
   "cell_type": "code",
   "execution_count": null,
   "metadata": {},
   "outputs": [],
   "source": [
    "# Finding the length of first_name \n",
    "print(len(first_name))\n",
    "# Comparing the length of first_name and last_name\n",
    "print(len(first_name) > len(last_name))\n"
   ]
  },
  {
   "cell_type": "code",
   "execution_count": null,
   "metadata": {},
   "outputs": [],
   "source": [
    "# Performing Arithmetic Operations \n",
    "num_one = 5\n",
    "num_two = 4 \n",
    "total = num_one + num_two\n",
    "diff = num_two - num_one \n",
    "product = num_two * num_one\n",
    "division = num_one / num_two\n",
    "remainder = num_one / num_two\n",
    "exp = num_one ** num_two\n",
    "floor_division = num_one // num_two\n",
    "print(total, diff, product, division, remainder, exp, floor_division)"
   ]
  },
  {
   "cell_type": "code",
   "execution_count": null,
   "metadata": {},
   "outputs": [],
   "source": [
    "#Circle calculations\n",
    "radius = 30\n",
    "area_of_circle = 3.14159 * radius ** 2\n",
    "circum_of_circle = 2 * 3.14159 * radius \n",
    "print(area_of_circle, circum_of_circle)\n",
    "# Taking the radius as user input to calculate the area \n",
    "radius = float(input(\"Enter the radius of a circle: \"))\n",
    "print(area_of_circle)\n"
   ]
  },
  {
   "cell_type": "code",
   "execution_count": null,
   "metadata": {},
   "outputs": [],
   "source": [
    "# Using the built in functions to get the first name and others and storing them\n",
    "first_name = input(\"Enter your first name: \")\n",
    "last_name = input(\"Enter your last name: \")\n",
    "country = input(\"Enter your country: \")\n",
    "age = input(\"Enter your age\")\n",
    "print(first_name, last_name, country, age)\n"
   ]
  },
  {
   "cell_type": "code",
   "execution_count": null,
   "metadata": {},
   "outputs": [],
   "source": [
    "# To check for python reserved words or keywords\n",
    "help('keywords')"
   ]
  },
  {
   "cell_type": "code",
   "execution_count": null,
   "metadata": {},
   "outputs": [],
   "source": [
    "# Exercise MODULE 3 \n",
    "age = 28 # declaring age as an interger variable \n",
    "height = 7.5 # declaring height as a float variable\n",
    "complex_number = # declaring a variable that stores a complex number \n"
   ]
  },
  {
   "cell_type": "code",
   "execution_count": null,
   "metadata": {},
   "outputs": [],
   "source": [
    "# Script to calculate area of a triangle\n",
    "base = float(input(\"Enter base: \"))\n",
    "height = float(input(\"Enter height: \"))\n",
    "area = 0.5 * base * height\n",
    "print(\"Area of the triangle is\", area)"
   ]
  },
  {
   "cell_type": "code",
   "execution_count": null,
   "metadata": {},
   "outputs": [],
   "source": [
    "# Script to calculate perimeter of a triangle\n",
    "a = float(input(\"Enter side a: \"))\n",
    "b = float(input(\"Enter side b: \"))\n",
    "c = float(input(\"Enter side c: \"))\n",
    "perimeter = a + b + c\n",
    "print(\"The perimeter of the triangle is\", perimeter)"
   ]
  },
  {
   "cell_type": "code",
   "execution_count": null,
   "metadata": {},
   "outputs": [],
   "source": [
    "# Script to calculate area and perimeter of a rectangle\n",
    "length = float(input(\"Enter the length: \"))\n",
    "width = float(input(\"Enter the width: \"))\n",
    "area = length * width\n",
    "perimeter = 2 * (length + width)\n",
    "print(\"The area of the rectangle is\", area)\n",
    "print(\"The perimeter of the rectangle is\", perimeter)"
   ]
  },
  {
   "cell_type": "code",
   "execution_count": null,
   "metadata": {},
   "outputs": [],
   "source": [
    "# Script to calculate area and circumference of a circle\n",
    "import math\n",
    "\n",
    "radius = float(input(\"Enter the radius: \"))\n",
    "pi = 3.14\n",
    "area = pi * (radius ** 2)\n",
    "circumference = 2 * pi * radius\n",
    "print(\"The area of the circle is\", area)\n",
    "print(\"The circumference of the circle is\", circumference)\n"
   ]
  },
  {
   "cell_type": "code",
   "execution_count": null,
   "metadata": {},
   "outputs": [],
   "source": [
    "# Equation: y = 2x - 2\n",
    "slope = 2\n",
    "x_intercept = 2 / 2  # Setting y = 0 to find x\n",
    "y_intercept = -2  # Setting x = 0 to find y\n",
    "print(\"Slope:\", slope)\n",
    "print(\"x-intercept:\", x_intercept)\n",
    "print(\"y-intercept:\", y_intercept)\n"
   ]
  },
  {
   "cell_type": "code",
   "execution_count": null,
   "metadata": {},
   "outputs": [],
   "source": [
    "# Slope and distance between points (2, 2) and (6, 10)\n",
    "x1, y1 = 2, 2\n",
    "x2, y2 = 6, 10\n",
    "slope = (y2 - y1) / (x2 - x1)\n",
    "euclidean_distance = math.sqrt((x2 - x1)**2 + (y2 - y1)**2)\n",
    "print(\"Slope:\", slope)\n",
    "print(\"Euclidean Distance:\", euclidean_distance)\n",
    "\n",
    "slope_task_8 = 2\n",
    "slope_task_9 = (10 - 2) / (6 - 2)\n",
    "comparison = slope_task_8 == slope_task_9\n",
    "print(\"Are the slopes equal?\", comparison)\n"
   ]
  },
  {
   "cell_type": "code",
   "execution_count": null,
   "metadata": {},
   "outputs": [],
   "source": [
    "# Script to calculate value of y\n",
    "x = -3  # Example value where y is 0\n",
    "y = x**2 + 6*x + 9\n",
    "print(\"For x =\", x, \", y =\", y)"
   ]
  },
  {
   "cell_type": "code",
   "execution_count": null,
   "metadata": {},
   "outputs": [],
   "source": [
    "# Falsy comparison\n",
    "length_python = len('python')\n",
    "length_dragon = len('dragon')\n",
    "falsy_comparison = length_python != length_dragon\n",
    "print(\"Falsy comparison statement:\", falsy_comparison)\n",
    "check = 'on' in 'python' and 'on' in 'dragon'\n",
    "print(\"Is 'on' in both 'python' and 'dragon'?\", check)"
   ]
  },
  {
   "cell_type": "code",
   "execution_count": null,
   "metadata": {},
   "outputs": [],
   "source": [
    "# checking if jargon is a sentence\n",
    "sentence = \"I hope this course is not full of jargon.\"\n",
    "check_jargon = 'jargon' in sentence\n",
    "print(\"Is 'jargon' in the sentence?\", check_jargon)"
   ]
  },
  {
   "cell_type": "code",
   "execution_count": null,
   "metadata": {},
   "outputs": [],
   "source": [
    "# Checking if 'on' is Not in Both 'python' and 'dragon\n",
    "check_not_in = 'on' not in 'python' and 'on' not in 'dragon'\n",
    "print(\"There is no 'on' in both 'dragon' and 'python':\", check_not_in)"
   ]
  },
  {
   "cell_type": "code",
   "execution_count": null,
   "metadata": {},
   "outputs": [],
   "source": [
    "# Converting Length of 'python' to Float and then to String\n",
    "length_python = float(len('python'))\n",
    "length_python_str = str(length_python)\n",
    "print(\"Length of 'python' as float and then string:\", length_python_str)"
   ]
  },
  {
   "cell_type": "code",
   "execution_count": null,
   "metadata": {},
   "outputs": [],
   "source": [
    "# Checking if a Number is Even\n",
    "number = 4  # Example number\n",
    "is_even = number % 2 == 0\n",
    "print(\"Is the number even?\", is_even)"
   ]
  },
  {
   "cell_type": "code",
   "execution_count": null,
   "metadata": {},
   "outputs": [],
   "source": [
    "# Checking if Floor Division of 7 by 3 Equals 2.7\n",
    "floor_division_check = 7 // 3 == int(2.7)\n",
    "print(\"Is the floor division of 7 by 3 equal to int(2.7)?\", floor_division_check)\n"
   ]
  },
  {
   "cell_type": "code",
   "execution_count": null,
   "metadata": {},
   "outputs": [],
   "source": [
    "# Checking if Type of '10' is Equal to Type of 10\n",
    "type_check = type('10') == type(10)\n",
    "print(\"Is type of '10' equal to type of 10?\", type_check)\n"
   ]
  },
  {
   "cell_type": "code",
   "execution_count": null,
   "metadata": {},
   "outputs": [],
   "source": [
    "# Checking if int('9.8') Equals 10\n",
    "try:\n",
    "    check_int = int(float('9.8')) == 10  # Corrected to handle float conversion first\n",
    "except ValueError:\n",
    "    check_int = False\n",
    "print(\"Is int('9.8') equal to 10?\", check_int)"
   ]
  },
  {
   "cell_type": "code",
   "execution_count": null,
   "metadata": {},
   "outputs": [],
   "source": [
    "# Calculating Pay Based on Hours and Rate\n",
    "hours = float(input(\"Enter hours: \"))\n",
    "rate_per_hour = float(input(\"Enter rate per hour: \"))\n",
    "pay = hours * rate_per_hour\n",
    "print(\"Your weekly earning is\", pay)\n"
   ]
  },
  {
   "cell_type": "code",
   "execution_count": null,
   "metadata": {},
   "outputs": [],
   "source": [
    "# Calculating Number of Seconds in a Given Number of Years\n",
    "years = float(input(\"Enter number of years you have lived: \"))\n",
    "seconds = years * 365 * 24 * 60 * 60\n",
    "print(\"You have lived for\", seconds, \"seconds.\")"
   ]
  },
  {
   "cell_type": "code",
   "execution_count": null,
   "metadata": {},
   "outputs": [],
   "source": [
    "# Displaying a table\n",
    "print(\"1 1 1 1 1\")\n",
    "print(\"2 1 2 4 8\")\n",
    "print(\"3 1 3 9 27\")\n",
    "print(\"4 1 4 16 64\")\n",
    "print(\"5 1 5 25 125\")"
   ]
  },
  {
   "cell_type": "code",
   "execution_count": null,
   "metadata": {},
   "outputs": [],
   "source": [
    "# EXERCISE MODULE 4 \n",
    "\n",
    "# Concatenate strings\n",
    "str1 = 'Thirty'\n",
    "str2 = 'Days'\n",
    "str3 = 'Of'\n",
    "str4 = 'Python'\n",
    "result = str1 + ' ' + str2 + ' ' + str3 + ' ' + str4\n",
    "print(result)  "
   ]
  },
  {
   "cell_type": "code",
   "execution_count": null,
   "metadata": {},
   "outputs": [],
   "source": [
    "# Concatenate more strings\n",
    "str5 = 'Coding'\n",
    "str6 = 'For'\n",
    "str7 = 'All'\n",
    "result2 = str5 + ' ' + str6 + ' ' + str7\n",
    "print(result2)  "
   ]
  },
  {
   "cell_type": "code",
   "execution_count": null,
   "metadata": {},
   "outputs": [],
   "source": [
    "# Declare and assign variable\n",
    "company = \"Coding For All\"\n",
    "\n",
    "# Print the variable\n",
    "print(company) \n",
    "\n",
    "# Print the length of the company string\n",
    "print(len(company))  \n",
    "\n",
    "# Change to uppercase\n",
    "print(company.upper())  \n",
    "\n",
    "# Change to lowercase\n",
    "print(company.lower())  "
   ]
  },
  {
   "cell_type": "code",
   "execution_count": null,
   "metadata": {},
   "outputs": [],
   "source": [
    "# Use capitalize(), title(), swapcase() methods\n",
    "print(company.capitalize()) \n",
    "print(company.title())       \n",
    "print(company.swapcase())   "
   ]
  },
  {
   "cell_type": "code",
   "execution_count": null,
   "metadata": {},
   "outputs": [],
   "source": [
    "# Slicing out the first word\n",
    "first_word = company.split()[0]\n",
    "print(first_word)  \n",
    "\n",
    "# Checking if contains 'Coding'\n",
    "print(company.index('Coding'))  \n",
    "print(company.find('Coding'))  "
   ]
  },
  {
   "cell_type": "code",
   "execution_count": null,
   "metadata": {},
   "outputs": [],
   "source": [
    "# Replacing 'Coding' with 'Python'\n",
    "new_company = company.replace('Coding', 'Python')\n",
    "print(new_company)  \n",
    "\n",
    "# Replacing 'Python for Everyone' with 'Python for All'\n",
    "phrase = \"Python for Everyone\"\n",
    "new_phrase = phrase.replace('Everyone', 'All')\n",
    "print(new_phrase) "
   ]
  },
  {
   "cell_type": "code",
   "execution_count": null,
   "metadata": {},
   "outputs": [],
   "source": [
    "# Spliting using space as the separator\n",
    "print(company.split()) \n",
    "\n",
    "# Spliting at the comma\n",
    "tech_companies = \"Facebook, Google, Microsoft, Apple, IBM, Oracle, Amazon\"\n",
    "print(tech_companies.split(', '))  "
   ]
  },
  {
   "cell_type": "code",
   "execution_count": null,
   "metadata": {},
   "outputs": [],
   "source": [
    "# Character at index 0\n",
    "print(company[0])  \n",
    "\n",
    "# Last index of the string\n",
    "print(company[-1]) \n",
    "\n",
    "# Character at index 10\n",
    "print(company[10])  "
   ]
  },
  {
   "cell_type": "code",
   "execution_count": null,
   "metadata": {},
   "outputs": [],
   "source": [
    "# Creating an acronym\n",
    "def create_acronym(phrase):\n",
    "    words = phrase.split()\n",
    "    acronym = ''.join([word[0].upper() for word in words])\n",
    "    return acronym"
   ]
  },
  {
   "cell_type": "code",
   "execution_count": null,
   "metadata": {},
   "outputs": [],
   "source": [
    "print(create_acronym('Python For Everyone'))  "
   ]
  },
  {
   "cell_type": "code",
   "execution_count": null,
   "metadata": {},
   "outputs": [],
   "source": [
    "# Acronym for 'Coding For All'\n",
    "print(create_acronym('Coding For All'))  \n",
    "\n",
    "# First occurrence of 'C'\n",
    "print(company.index('C'))  \n",
    "\n",
    "# First occurrence of 'F'\n",
    "print(company.index('F'))  \n",
    "\n",
    "# Last occurrence of 'l'\n",
    "company = \"Coding For All People\"\n",
    "print(company.rfind('l'))  \n",
    "\n",
    "# First occurrence of 'because'\n",
    "sentence = 'You cannot end a sentence with because because because is a conjunction'\n",
    "print(sentence.index('because'))  \n",
    "\n",
    "# Last occurrence of 'because'\n",
    "print(sentence.rindex('because'))  "
   ]
  },
  {
   "cell_type": "code",
   "execution_count": null,
   "metadata": {},
   "outputs": [],
   "source": [
    "# Slicing out 'because because because'\n",
    "start = sentence.find('because')\n",
    "end = sentence.rindex('because') + len('because')\n",
    "sliced_phrase = sentence[start:end]\n",
    "print(sliced_phrase)  "
   ]
  },
  {
   "cell_type": "code",
   "execution_count": null,
   "metadata": {},
   "outputs": [],
   "source": [
    "# Does 'Coding For All' Start with 'Coding'?\n",
    "print(company.startswith('Coding'))  \n",
    "\n",
    "# Does 'Coding For All' End with 'coding'?\n",
    "print(company.endswith('coding'))  "
   ]
  },
  {
   "cell_type": "code",
   "execution_count": null,
   "metadata": {},
   "outputs": [],
   "source": [
    "# Removing trailing spaces\n",
    "trimmed_company = '   Coding For All      '.strip()\n",
    "print(trimmed_company)  \n",
    "\n",
    "# Checking isidentifier()\n",
    "print('30DaysOfPython'.isidentifier())  # Output: False\n",
    "print('thirty_days_of_python'.isidentifier()) "
   ]
  },
  {
   "cell_type": "code",
   "execution_count": null,
   "metadata": {},
   "outputs": [],
   "source": [
    "# Joining  list with hash and space\n",
    "libraries = ['Django', 'Flask', 'Bottle', 'Pyramid', 'Falcon']\n",
    "joined_libraries = ' # '.join(libraries)\n",
    "print(joined_libraries)  \n"
   ]
  },
  {
   "cell_type": "code",
   "execution_count": 7,
   "metadata": {},
   "outputs": [
    {
     "name": "stdout",
     "output_type": "stream",
     "text": [
      "I am enjoying this challenge.\n",
      "I just wonder what is next.\n",
      "Name\tAge\tCountry\tCity\n",
      "Muhammed\t25\tNigeria\tKaduna\n"
     ]
    }
   ],
   "source": [
    "# using the New line escape sequence\n",
    "print(\"I am enjoying this challenge.\\nI just wonder what is next.\")\n",
    "\n",
    "# using the Tab escape sequence\n",
    "print(\"Name\\tAge\\tCountry\\tCity\\nMuhammed\\t25\\tNigeria\\tKaduna\")\n"
   ]
  },
  {
   "cell_type": "code",
   "execution_count": null,
   "metadata": {},
   "outputs": [],
   "source": [
    "# String formatting for circle area\n",
    "radius = 10\n",
    "area = 3.14 * radius ** 2\n",
    "print(f\"The area of a circle with radius {radius} is {int(area)} meters square.\")\n",
    "\n",
    "# string formatting of Arithmetic operations\n",
    "a, b = 8, 6\n",
    "print(f\"{a} + {b} = {a + b}\")\n",
    "print(f\"{a} - {b} = {a - b}\")\n",
    "print(f\"{a} * {b} = {a * b}\")\n",
    "print(f\"{a} / {b} = {a / b:.2f}\")\n",
    "print(f\"{a} % {b} = {a % b}\")\n",
    "print(f\"{a} // {b} = {a // b}\")\n",
    "print(f\"{a} ** {b} = {a ** b}\")"
   ]
  }
 ],
 "metadata": {
  "kernelspec": {
   "display_name": ".conda",
   "language": "python",
   "name": "python3"
  },
  "language_info": {
   "codemirror_mode": {
    "name": "ipython",
    "version": 3
   },
   "file_extension": ".py",
   "mimetype": "text/x-python",
   "name": "python",
   "nbconvert_exporter": "python",
   "pygments_lexer": "ipython3",
   "version": "3.12.7"
  }
 },
 "nbformat": 4,
 "nbformat_minor": 2
}
