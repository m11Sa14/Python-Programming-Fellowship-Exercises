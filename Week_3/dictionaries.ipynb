{
 "cells": [
  {
   "cell_type": "code",
   "execution_count": null,
   "metadata": {
    "vscode": {
     "languageId": "plaintext"
    }
   },
   "outputs": [],
   "source": [
    "# Creating an Empty ditionary called dog\n",
    "dog = {}"
   ]
  },
  {
   "cell_type": "code",
   "execution_count": null,
   "metadata": {
    "vscode": {
     "languageId": "plaintext"
    }
   },
   "outputs": [],
   "source": [
    "# Adding name, color, breed, legs, age to the dog dictionary\n",
    "student = {\n",
    "    'first_name': 'John',\n",
    "    'last_name': 'Doe',\n",
    "    'gender': 'Male',\n",
    "    'age': 20,\n",
    "    'marital_status': 'Single',\n",
    "    'skills': ['Python', 'Data Analysis'],\n",
    "    'country': 'Nigeria',\n",
    "    'city': 'Abuja',\n",
    "    'address': {\n",
    "        'street': '123 Main St',\n",
    "        'zipcode': '90001'\n",
    "    }\n",
    "}"
   ]
  },
  {
   "cell_type": "code",
   "execution_count": null,
   "metadata": {
    "vscode": {
     "languageId": "plaintext"
    }
   },
   "outputs": [],
   "source": [
    "# Getting the length of the student dictionary:\n",
    "student_length = len(student)\n",
    "print(student_length)"
   ]
  },
  {
   "cell_type": "code",
   "execution_count": null,
   "metadata": {
    "vscode": {
     "languageId": "plaintext"
    }
   },
   "outputs": [],
   "source": [
    "# Getting the value of skills and check the data type (should be a list):\n",
    "skills = student['skills']\n",
    "print(skills)\n",
    "print(type(skills))  # This should output <class 'list'>"
   ]
  },
  {
   "cell_type": "code",
   "execution_count": null,
   "metadata": {
    "vscode": {
     "languageId": "plaintext"
    }
   },
   "outputs": [],
   "source": [
    "# Modifying the skills values by adding one or two skills\n",
    "student['skills'].append('Machine Learning')\n",
    "student['skills'].append('Deep Learning')\n",
    "print(student['skills'])"
   ]
  },
  {
   "cell_type": "code",
   "execution_count": null,
   "metadata": {
    "vscode": {
     "languageId": "plaintext"
    }
   },
   "outputs": [],
   "source": [
    "#Getting the dictionary keys as a list:\n",
    "keys = list(student.keys())\n",
    "print(keys)\n",
    "\n",
    "# Getting the dictionary values as a list:\n",
    "values = list(student.values())\n",
    "print(values)"
   ]
  },
  {
   "cell_type": "code",
   "execution_count": null,
   "metadata": {
    "vscode": {
     "languageId": "plaintext"
    }
   },
   "outputs": [],
   "source": [
    "# Changing the dictionary to a list of tuples using items() method:\n",
    "items = list(student.items())\n",
    "print(items)\n",
    "\n",
    "# Deleting one of the items in the dictionary:\n",
    "del student['marital_status']\n",
    "print(student)"
   ]
  },
  {
   "cell_type": "code",
   "execution_count": null,
   "metadata": {
    "vscode": {
     "languageId": "plaintext"
    }
   },
   "outputs": [],
   "source": [
    "# Deleting one of the dictionaries (let's delete dog):\n",
    "del dog"
   ]
  }
 ],
 "metadata": {
  "language_info": {
   "name": "python"
  }
 },
 "nbformat": 4,
 "nbformat_minor": 2
}
