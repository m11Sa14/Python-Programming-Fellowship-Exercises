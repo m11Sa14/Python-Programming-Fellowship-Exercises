{
 "cells": [
  {
   "cell_type": "code",
   "execution_count": null,
   "metadata": {
    "vscode": {
     "languageId": "plaintext"
    }
   },
   "outputs": [],
   "source": [
    "# Conditionals Exerices LEVEL 1\n",
    "\n",
    "# Getting user input and checking age for driving:\n",
    "age = int(input(\"Enter your age: \"))\n",
    "if age >= 18:\n",
    "    print(\"You are old enough to drive.\")\n",
    "else:\n",
    "    years_left = 18 - age\n",
    "    print(f\"You need {years_left} more years to learn to drive.\")\n"
   ]
  },
  {
   "cell_type": "code",
   "execution_count": null,
   "metadata": {
    "vscode": {
     "languageId": "plaintext"
    }
   },
   "outputs": [],
   "source": [
    "# Comparing ages:\n",
    "my_age = 25  # Replace with your actual age\n",
    "your_age = int(input(\"Enter your age: \"))\n",
    "\n",
    "if your_age > my_age:\n",
    "    difference = your_age - my_age\n",
    "    if difference == 1:\n",
    "        print(\"You are 1 year older than me.\")\n",
    "    else:\n",
    "        print(f\"You are {difference} years older than me.\")\n",
    "elif your_age < my_age:\n",
    "    difference = my_age - your_age\n",
    "    if difference == 1:\n",
    "        print(\"I am 1 year older than you.\")\n",
    "    else:\n",
    "        print(f\"I am {difference} years older than you.\")\n",
    "else:\n",
    "    print(\"We are the same age.\")"
   ]
  },
  {
   "cell_type": "code",
   "execution_count": null,
   "metadata": {
    "vscode": {
     "languageId": "plaintext"
    }
   },
   "outputs": [],
   "source": [
    "# Comparing two numbers\n",
    "a = int(input(\"Enter number one: \"))\n",
    "b = int(input(\"Enter number two: \"))\n",
    "\n",
    "if a > b:\n",
    "    print(f\"{a} is greater than {b}\")\n",
    "elif a < b:\n",
    "    print(f\"{a} is smaller than {b}\")\n",
    "else:\n",
    "    print(f\"{a} is equal to {b}\")"
   ]
  },
  {
   "cell_type": "code",
   "execution_count": null,
   "metadata": {
    "vscode": {
     "languageId": "plaintext"
    }
   },
   "outputs": [],
   "source": [
    " EXERCISE LEVEL 2\n",
    "\n",
    "# Assigning grades based on scores \n",
    "score = int(input(\"Enter your score: \"))\n",
    "\n",
    "if 80 <= score <= 100:\n",
    "    print(\"A\")\n",
    "elif 70 <= score < 80:\n",
    "    print(\"B\")\n",
    "elif 60 <= score < 70:\n",
    "    print(\"C\")\n",
    "elif 50 <= score < 60:\n",
    "    print(\"D\")\n",
    "else:\n",
    "    print(\"F\")"
   ]
  },
  {
   "cell_type": "code",
   "execution_count": null,
   "metadata": {
    "vscode": {
     "languageId": "plaintext"
    }
   },
   "outputs": [],
   "source": [
    "# Checking Season\n",
    "month = input(\"Enter the month: \")\n",
    "\n",
    "if month in [\"September\", \"October\", \"November\"]:\n",
    "    print(\"The season is Autumn.\")\n",
    "elif month in [\"December\", \"January\", \"February\"]:\n",
    "    print(\"The season is Winter.\")\n",
    "elif month in [\"March\", \"April\", \"May\"]:\n",
    "    print(\"The season is Spring.\")\n",
    "elif month in [\"June\", \"July\", \"August\"]:\n",
    "    print(\"The season is Summer.\")\n",
    "else:\n",
    "    print(\"Invalid month.\")\n"
   ]
  },
  {
   "cell_type": "code",
   "execution_count": null,
   "metadata": {
    "vscode": {
     "languageId": "plaintext"
    }
   },
   "outputs": [],
   "source": [
    "# Modifying fruit list\n",
    "fruits = ['banana', 'orange', 'mango', 'lemon']\n",
    "new_fruit = input(\"Enter the fruit: \")\n",
    "\n",
    "if new_fruit in fruits:\n",
    "    print(\"That fruit already exists in the list.\")\n",
    "else:\n",
    "    fruits.append(new_fruit)\n",
    "    print(\"Modified list: \", fruits)"
   ]
  },
  {
   "cell_type": "code",
   "execution_count": null,
   "metadata": {
    "vscode": {
     "languageId": "plaintext"
    }
   },
   "outputs": [],
   "source": [
    "# EXERCISE LEVEL 3\n",
    "# Checking skills in the person dicitonary\n",
    "\n",
    "person = {\n",
    "    'first_name': 'Muhammed',\n",
    "    'last_name': 'Kabir',\n",
    "    'age': 25,\n",
    "    'country': 'Nigeria',\n",
    "    'is_marred': False,\n",
    "    'skills': ['JavaScript', 'React', 'Node', 'MongoDB', 'Python'],\n",
    "    'address': {\n",
    "        'street': 'Daura Road',\n",
    "        'zipcode': '000186'\n",
    "    }\n",
    "}"
   ]
  },
  {
   "cell_type": "code",
   "execution_count": null,
   "metadata": {
    "vscode": {
     "languageId": "plaintext"
    }
   },
   "outputs": [],
   "source": [
    "# Check for middle skill\n",
    "if 'skills' in person:\n",
    "    skills = person['skills']\n",
    "    middle_skill = skills[len(skills) // 2]\n",
    "    print(\"Middle skill:\", middle_skill)\n"
   ]
  },
  {
   "cell_type": "code",
   "execution_count": null,
   "metadata": {
    "vscode": {
     "languageId": "plaintext"
    }
   },
   "outputs": [],
   "source": [
    "# Check for Python skill\n",
    "if 'skills' in person and 'Python' in person['skills']:\n",
    "    print(\"Python is in the skill set\")\n"
   ]
  },
  {
   "cell_type": "code",
   "execution_count": null,
   "metadata": {
    "vscode": {
     "languageId": "plaintext"
    }
   },
   "outputs": [],
   "source": [
    "# Determine developer type\n",
    "person = {\n",
    "    'first_name': 'Muhammed',\n",
    "    'last_name': 'Kabir',\n",
    "    'age': 25,\n",
    "    'country': 'Nigeria',\n",
    "    'is_marred': False,\n",
    "    'skills': ['JavaScript', 'React', 'Node', 'MongoDB', 'Python'],\n",
    "    'address': {\n",
    "        'street': 'Daura Road',\n",
    "        'zipcode': '00186'\n",
    "    }\n",
    "}"
   ]
  },
  {
   "cell_type": "code",
   "execution_count": null,
   "metadata": {
    "vscode": {
     "languageId": "plaintext"
    }
   },
   "outputs": [],
   "source": [
    "# 1. Check for middle skill\n",
    "if 'skills' in person:\n",
    "    skills = person['skills']\n",
    "    middle_index = len(skills) // 2\n",
    "    middle_skill = skills[middle_index]\n",
    "    print(\"Middle skill:\", middle_skill)"
   ]
  },
  {
   "cell_type": "code",
   "execution_count": null,
   "metadata": {
    "vscode": {
     "languageId": "plaintext"
    }
   },
   "outputs": [],
   "source": [
    "# 2. Check for Python skill\n",
    "if 'skills' in person and 'Python' in person['skills']:\n",
    "    print(\"Python is in the skill set\")"
   ]
  },
  {
   "cell_type": "code",
   "execution_count": null,
   "metadata": {
    "vscode": {
     "languageId": "plaintext"
    }
   },
   "outputs": [],
   "source": [
    "# 3. Determine developer type\n",
    "if 'skills' in person:\n",
    "    skills = person['skills']\n",
    "    if len(skills) == 2 and 'JavaScript' in skills and 'React' in skills:\n",
    "        print(\"He is a front end developer\")\n",
    "    elif all(skill in skills for skill in ['Node', 'Python', 'MongoDB']):\n",
    "        print(\"He is a backend developer\")\n",
    "    elif all(skill in skills for skill in ['React', 'Node', 'MongoDB']):\n",
    "        print(\"He is a fullstack developer\")\n",
    "    else:\n",
    "        print(\"Unknown title\")"
   ]
  },
  {
   "cell_type": "code",
   "execution_count": null,
   "metadata": {
    "vscode": {
     "languageId": "plaintext"
    }
   },
   "outputs": [],
   "source": [
    "# 4. Print married and living in Nigeria info\n",
    "if person['is_marred'] and person['country'] == 'Nigeria':\n",
    "    print(f\"{person['first_name']} {person['last_name']} lives in Nigeria. He is married.\")\n"
   ]
  }
 ],
 "metadata": {
  "language_info": {
   "name": "python"
  }
 },
 "nbformat": 4,
 "nbformat_minor": 2
}
