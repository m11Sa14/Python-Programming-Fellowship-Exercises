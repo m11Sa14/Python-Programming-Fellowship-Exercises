{
 "cells": [
  {
   "cell_type": "code",
   "execution_count": null,
   "metadata": {},
   "outputs": [],
   "source": [
    "# EXERCISE LEVEL 1\n",
    "# Declare a function _add_two_numbers_. It takes two parameters and it returns a sum.\n",
    "\n",
    "def add_two_numbers(num1, num2):\n",
    "    \"\"\"Return the sum of two numbers.\"\"\"\n",
    "    return num1 + num2\n",
    "\n",
    "print(add_two_numbers(2, 5))\n"
   ]
  },
  {
   "cell_type": "code",
   "execution_count": null,
   "metadata": {},
   "outputs": [],
   "source": [
    "#  Area of a circle is calculated as follows: \n",
    "# area = π x r x r. Write a function that calculates _area_of_circle_.\n",
    "\n",
    "def area_of_circle(r):\n",
    "    \"\"\"Calculate the area of a circle given its radius.\"\"\"\n",
    "    PI = 31.14\n",
    "    area = PI * r ** 2\n",
    "    return area \n",
    "print(area_of_cirlce(10))\n",
    "\n",
    "# OR \n",
    "\n",
    "import math\n",
    "\n",
    "def area_of_circle(radius):\n",
    "    \"\"\"Calculate the area of a circle given its radius.\"\"\"\n",
    "    area = math.pi * radius * radius\n",
    "    return area"
   ]
  },
  {
   "cell_type": "code",
   "execution_count": 1,
   "metadata": {},
   "outputs": [
    {
     "name": "stdout",
     "output_type": "stream",
     "text": [
      "10.5\n",
      "Error: 'two' is not a number.\n"
     ]
    }
   ],
   "source": [
    "# Write a function called add_all_nums which takes arbitrary number of arguments and sums all the arguments.\n",
    "# Check if all the list items are number types. If not do give a reasonable feedback.\n",
    "\n",
    "def add_all_nums(*args):\n",
    "    \"\"\"Sum all the arguments, ensuring they are all numbers.\"\"\"\n",
    "    total = 0\n",
    "    for arg in args:\n",
    "        if not isinstance(arg, (int, float)):\n",
    "            return f\"Error: '{arg}' is not a number.\"\n",
    "        total += arg\n",
    "    return total\n",
    "\n",
    "# Example Usages:\n",
    "print(add_all_nums(1, 2, 3, 4.5))       \n",
    "print(add_all_nums(1, 'two', 3))        "
   ]
  },
  {
   "cell_type": "code",
   "execution_count": null,
   "metadata": {},
   "outputs": [],
   "source": [
    "# Temperature in °C can be converted to °F using this formula:\n",
    "# °F = (°C x 9/5) + 32. Write a function which converts °C to °F, _convert_celsius_to-fahrenheit_.\n",
    "\n",
    "def convert_celsius_to_fahrenheit(celsius):\n",
    "    \"\"\"Convert temperature from Celsius to Fahrenheit.\"\"\"\n",
    "    fahrenheit = (celsius * 9/5) + 32\n",
    "    return fahrenheit\n",
    "\n",
    "# Example Usage\n",
    "celsius_temp = 25\n",
    "fahrenheit_temp = convert_celsius_to_fahrenheit(celsius_temp)\n",
    "print(f\"The temperature in Fahrenheit is {fahrenheit_temp}\")"
   ]
  },
  {
   "cell_type": "code",
   "execution_count": null,
   "metadata": {},
   "outputs": [],
   "source": [
    "# Write a function called check-season, \n",
    "# it takes a month parameter and returns the season: Autumn, Winter, Spring or Summer.\n",
    "def check_season(month):\n",
    "    \"\"\"Return the season based on the given month.\"\"\"\n",
    "    if month in ['December', 'January', 'February']:\n",
    "        return 'Winter'\n",
    "    elif month in ['March', 'April', 'May']:\n",
    "        return 'Spring'\n",
    "    elif month in ['June', 'July', 'August']:\n",
    "        return 'Summer'\n",
    "    elif month in ['September', 'October', 'November']:\n",
    "        return 'Autumn'\n",
    "    else:\n",
    "        return 'Invalid month'"
   ]
  },
  {
   "cell_type": "code",
   "execution_count": 2,
   "metadata": {},
   "outputs": [
    {
     "ename": "NameError",
     "evalue": "name 'check_season' is not defined",
     "output_type": "error",
     "traceback": [
      "\u001b[1;31m---------------------------------------------------------------------------\u001b[0m",
      "\u001b[1;31mNameError\u001b[0m                                 Traceback (most recent call last)",
      "Cell \u001b[1;32mIn[2], line 2\u001b[0m\n\u001b[0;32m      1\u001b[0m \u001b[38;5;66;03m# Example usage \u001b[39;00m\n\u001b[1;32m----> 2\u001b[0m \u001b[38;5;28mprint\u001b[39m(\u001b[43mcheck_season\u001b[49m(\u001b[38;5;124m'\u001b[39m\u001b[38;5;124mMarch\u001b[39m\u001b[38;5;124m'\u001b[39m))   \u001b[38;5;66;03m# Output: Spring\u001b[39;00m\n\u001b[0;32m      3\u001b[0m \u001b[38;5;28mprint\u001b[39m(check_season(\u001b[38;5;124m'\u001b[39m\u001b[38;5;124mAugust\u001b[39m\u001b[38;5;124m'\u001b[39m))  \u001b[38;5;66;03m# Output: Summer\u001b[39;00m\n\u001b[0;32m      4\u001b[0m \u001b[38;5;28mprint\u001b[39m(check_season(\u001b[38;5;124m'\u001b[39m\u001b[38;5;124mNovember\u001b[39m\u001b[38;5;124m'\u001b[39m)) \u001b[38;5;66;03m# Output: Autumn\u001b[39;00m\n",
      "\u001b[1;31mNameError\u001b[0m: name 'check_season' is not defined"
     ]
    }
   ],
   "source": [
    "# Example usage \n",
    "print(check_season('March'))   # Output: Spring\n",
    "print(check_season('August'))  # Output: Summer\n",
    "print(check_season('November')) # Output: Autumn\n",
    "print(check_season('December')) # Output: Winter\n",
    "print(check_season('Invalid')) # Output: Invalid month"
   ]
  },
  {
   "cell_type": "code",
   "execution_count": null,
   "metadata": {},
   "outputs": [],
   "source": [
    "# Write a function called calculate_slope which return the slope of a linear equation\n",
    "def calculate_slope(x1, y1, x2, y2):\n",
    "    \"\"\"Calculate the slope of a line given two points.\"\"\"\n",
    "    if x1 == x2:\n",
    "        return \"The slope is undefined (vertical line).\"\n",
    "    slope = (y2 - y1) / (x2 - x1)\n",
    "    return slope"
   ]
  },
  {
   "cell_type": "code",
   "execution_count": null,
   "metadata": {},
   "outputs": [],
   "source": [
    "# Example usage \n",
    "slope1 = calculate_slope(1, 2, 3, 4)\n",
    "print(f\"The slope of the line is {slope1}\")\n",
    "\n",
    "slope2 = calculate_slope(2, 3, 2, 7)\n",
    "print(slope2)"
   ]
  },
  {
   "cell_type": "code",
   "execution_count": null,
   "metadata": {},
   "outputs": [],
   "source": [
    "def solve_quadratic_eqn_by_completing_square(a, b, c):\n",
    "    \"\"\"Solve a quadratic equation by completing the square.\"\"\"\n",
    "    if a == 0:\n",
    "        return \"Not a quadratic equation.\"\n",
    "    D = b**2 - 4*a*c\n",
    "    if D < 0:\n",
    "        return \"The equation has no real roots.\"\n",
    "    \n",
    "    h = -b / (2 * a)\n",
    "    k = (4*a*c - b**2) / (4 * a)\n",
    "    x1 = h + ((-k)**0.5 if k < 0 else k**0.5)\n",
    "    x2 = h - ((-k)**0.5 if k < 0 else k**0.5)\n",
    "    return x1, x2\n",
    "\n",
    "print(solve_quadratic_eqn_by_completing_square(1, -3, 2)) \n",
    "\n",
    "# OR \n",
    "\n",
    "def complete_square_quadratic_eqn(a, b, c):\n",
    "    \"\"\"Solve a quadratic equation by completing the square.\"\"\"\n",
    "    if a == 0:\n",
    "        return \"Not a quadratic equation.\"\n",
    "    \n",
    "    # Normalize the coefficients\n",
    "    b /= a\n",
    "    c /= a\n",
    "    a = 1\n",
    "    \n",
    "    # Completing the square\n",
    "    h = -b / 2\n",
    "    k = c - (b**2 / 4)\n",
    "    root_part = (k if k >= 0 else -k)**0.5\n",
    "    \n",
    "    if k < 0:\n",
    "        return \"The equation has no real roots.\"\n",
    "    \n",
    "    x1 = h + root_part\n",
    "    x2 = h - root_part\n",
    "    return x1, x2\n",
    "\n",
    "print(complete_square_quadratic_eqn(1, -3, 2))  # Output: (2.0, 1.0)"
   ]
  },
  {
   "cell_type": "code",
   "execution_count": null,
   "metadata": {},
   "outputs": [],
   "source": [
    "# Declare a function named print_list.\n",
    "# It takes a list as a parameter and it prints out each element of the list.\n",
    "def print_list(my_list):\n",
    "    \"\"\"Print each element of the list.\"\"\"\n",
    "    for element in my_list:\n",
    "        print(element)\n",
    "\n",
    "# USAGE EXAMPLES \n",
    "my_list = [1, 2, 3, 4, 5]\n",
    "print_list(my_list)"
   ]
  },
  {
   "cell_type": "code",
   "execution_count": null,
   "metadata": {},
   "outputs": [],
   "source": [
    "# Declare a function named reverse_list. \n",
    "# It takes an array as a parameter and it returns the reverse of the array (use loops).\n",
    "\n",
    "def reverse_list(array):\n",
    "    \"\"\"Return the reverse of the array using loops.\"\"\"\n",
    "    reversed_array = []\n",
    "    for i in range(len(array) - 1, -1, -1):\n",
    "        reversed_array.append(array[i])\n",
    "    return reversed_array\n",
    "\n",
    "# USAGE EXAMPLES\n",
    "my_array = [1, 2, 3, 4, 5]\n",
    "reversed_array = reverse_list(my_array)\n",
    "print(reversed_array)  "
   ]
  },
  {
   "cell_type": "code",
   "execution_count": null,
   "metadata": {},
   "outputs": [],
   "source": [
    "# Declare a function named reverse_list. \n",
    "# It takes an array as a parameter and it returns the reverse of the array (use loops).\n",
    "print(reverse_list([1, 2, 3, 4, 5]))\n",
    "print(reverse_list1([\"A\", \"B\", \"C\"]))"
   ]
  },
  {
   "cell_type": "code",
   "execution_count": null,
   "metadata": {},
   "outputs": [],
   "source": [
    "def reverse_list(array):\n",
    "    \"\"\"Return the reverse of the array using loops.\"\"\"\n",
    "    reversed_array = []\n",
    "    for i in range(len(array) - 1, -1, -1):\n",
    "        reversed_array.append(array[i])\n",
    "    return reversed_array\n"
   ]
  },
  {
   "cell_type": "code",
   "execution_count": null,
   "metadata": {},
   "outputs": [],
   "source": [
    "# Example Usages:\n",
    "print(reverse_list([1, 2, 3, 4, 5]))\n",
    "# Output: [5, 4, 3, 2, 1]\n",
    "\n",
    "print(reverse_list([\"A\", \"B\", \"C\"]))\n",
    "# Output: [\"C\", \"B\", \"A\"]"
   ]
  },
  {
   "cell_type": "code",
   "execution_count": null,
   "metadata": {},
   "outputs": [],
   "source": [
    "# Declare a function named capitalize_list_items. \n",
    "# It takes a list as a parameter and it returns a capitalized list of items.\n",
    "\n",
    "def capitalize_list_items(items):\n",
    "    \"\"\"Return a list with each item capitalized.\"\"\"\n",
    "    capitalized_items = []\n",
    "    for item in items:\n",
    "        capitalized_items.append(item.capitalize())\n",
    "    return capitalized_items"
   ]
  },
  {
   "cell_type": "code",
   "execution_count": null,
   "metadata": {},
   "outputs": [],
   "source": [
    "# Example Usages:\n",
    "print(capitalize_list_items([\"apple\", \"banana\", \"cherry\"]))\n",
    "# Output: ['Apple', 'Banana', 'Cherry']\n",
    "\n",
    "print(capitalize_list_items([\"hello\", \"world\"]))\n",
    "# Output: ['Hello', 'World']"
   ]
  },
  {
   "cell_type": "code",
   "execution_count": null,
   "metadata": {},
   "outputs": [],
   "source": [
    "# Declare a function named add_item. \n",
    "# It takes a list and an item parameters. It returns a list with the item added at the end.\n",
    "\n",
    "food_staff = ['Potato', 'Tomato', 'Mango', 'Milk']\n",
    "print(add_item(food_staff, 'Meat'))     # ['Potato', 'Tomato', 'Mango', 'Milk','Meat']\n",
    "numbers = [2, 3, 7, 9]\n",
    "print(add_item(numbers, 5))      [2, 3, 7, 9, 5]\n",
    "# SOLUTION\n",
    "def add_item(my_list, item):\n",
    "    \"\"\"Add an item to the end of the list.\"\"\"\n",
    "    my_list.append(item)\n",
    "    return my_list"
   ]
  },
  {
   "cell_type": "code",
   "execution_count": null,
   "metadata": {},
   "outputs": [],
   "source": [
    "# Example Usages:\n",
    "food_staff = ['Potato', 'Tomato', 'Mango', 'Milk']\n",
    "print(add_item(food_staff, 'Meat'))  \n",
    "\n",
    "numbers = [2, 3, 7, 9]\n",
    "print(add_item(numbers, 5)) "
   ]
  },
  {
   "cell_type": "code",
   "execution_count": null,
   "metadata": {},
   "outputs": [],
   "source": [
    "# Declare a function named remove_item. \n",
    "# It takes a list and an item parameters. It returns a list with the item removed from it.\n",
    "\n",
    "food_staff = ['Potato', 'Tomato', 'Mango', 'Milk']\n",
    "print(remove_item(food_staff, 'Mango'))  # ['Potato', 'Tomato', 'Milk'];\n",
    "numbers = [2, 3, 7, 9]\n",
    "print(remove_item(numbers, 3))  # [2, 7, 9]\n",
    "\n",
    "# SOLUTION\n",
    "def remove_item(my_list, item):\n",
    "    \"\"\"Remove an item from the list.\"\"\"\n",
    "    if item in my_list:\n",
    "        my_list.remove(item)\n",
    "    return my_list\n",
    "\n"
   ]
  },
  {
   "cell_type": "code",
   "execution_count": null,
   "metadata": {},
   "outputs": [],
   "source": [
    "# Example Usages:\n",
    "food_staff = ['Potato', 'Tomato', 'Mango', 'Milk']\n",
    "print(remove_item(food_staff, 'Mango'))  \n",
    "\n",
    "numbers = [2, 3, 7, 9]\n",
    "print(remove_item(numbers, 3))  \n",
    "\n",
    "# Declare a function named sum_of_numbers. \n",
    "# It takes a number parameter and it adds all the numbers in that range.\n",
    "\n",
    "print(sum_of_numbers(5)) \n",
    "print(sum_of_numbers(10)) \n",
    "print(sum_of_numbers(100)) \n",
    "\n",
    "# SOLUTION\n",
    "def sum_of_numbers(n):\n",
    "    \"\"\"Return the sum of all numbers from 1 to n.\"\"\"\n",
    "    total = 0\n",
    "    for i in range(1, n + 1):\n",
    "        total += i\n",
    "    return total"
   ]
  },
  {
   "cell_type": "code",
   "execution_count": null,
   "metadata": {},
   "outputs": [],
   "source": [
    "# Example Usages:\n",
    "print(sum_of_numbers(5))  \n",
    "print(sum_of_numbers(10))  \n",
    "print(sum_of_numbers(100)) "
   ]
  },
  {
   "cell_type": "code",
   "execution_count": null,
   "metadata": {},
   "outputs": [],
   "source": [
    "# Declare a function named sum_of_odds. \n",
    "# It takes a number parameter and it adds all the odd numbers in that range.\n",
    "\n",
    "def sum_of_odds(n):\n",
    "    \"\"\"Return the sum of all odd numbers from 1 to n.\"\"\"\n",
    "    total = 0\n",
    "    for i in range(1, n + 1):\n",
    "        if i % 2 != 0:\n",
    "            total += i\n",
    "    return total"
   ]
  },
  {
   "cell_type": "code",
   "execution_count": null,
   "metadata": {},
   "outputs": [],
   "source": [
    "# Example Usages:\n",
    "print(sum_of_odds(5))  \n",
    "print(sum_of_odds(10))  \n",
    "print(sum_of_odds(100)) "
   ]
  },
  {
   "cell_type": "code",
   "execution_count": null,
   "metadata": {},
   "outputs": [],
   "source": [
    "# Declare a function named sum_of_even. \n",
    "# It takes a number parameter and it adds all the even numbers in that - range.\n",
    "\n",
    "def sum_of_even(n):\n",
    "    \"\"\"Return the sum of all even numbers from 1 to n.\"\"\"\n",
    "    total = 0\n",
    "    for i in range(1, n + 1):\n",
    "        if i % 2 == 0:\n",
    "            total += i\n",
    "    return total\n",
    "\n",
    "# Example Usages:\n",
    "print(sum_of_even(5))   \n",
    "print(sum_of_even(10))  \n",
    "print(sum_of_even(100)) "
   ]
  },
  {
   "cell_type": "code",
   "execution_count": null,
   "metadata": {},
   "outputs": [],
   "source": [
    "# EXERCISE LEVEL 2\n",
    "Declare a function named evens_and_odds . It takes a positive integer as parameter and it counts number of evens and odds in the number.\n",
    "\n",
    "    print(evens_and_odds(100))\n",
    "    # The number of odds are 50.\n",
    "    # The number of evens are 51\n",
    "\n",
    "# SOLUTION  evens_and_odds FUNCTION\n",
    "def evens_and_odds(n):\n",
    "    \"\"\"Count the number of even and odd numbers up to n.\"\"\"\n",
    "    evens = 0\n",
    "    odds = 0\n",
    "    for i in range(n + 1):\n",
    "        if i % 2 == 0:\n",
    "            evens += 1\n",
    "        else:\n",
    "            odds += 1\n",
    "    return f\"The number of odds are {odds}. The number of evens are {evens}.\""
   ]
  },
  {
   "cell_type": "code",
   "execution_count": null,
   "metadata": {},
   "outputs": [],
   "source": [
    "# Example Usage:\n",
    "print(evens_and_odds(100))\n",
    "# Output: The number of odds are 50. The number of evens are 51.\n",
    "\n",
    "# FACTORIAL FUNCTION\n",
    "def factorial(n):\n",
    "    \"\"\"Return the factorial of n.\"\"\"\n",
    "    if n == 0:\n",
    "        return 1\n",
    "    else:\n",
    "        return n * factorial(n - 1)\n",
    "\n",
    "# Example Usage:\n",
    "print(factorial(5))\n",
    "print(factorial(10)) \n"
   ]
  },
  {
   "cell_type": "code",
   "execution_count": null,
   "metadata": {},
   "outputs": [],
   "source": [
    "# IS_FUNCTION\n",
    "def _is_empty(param):\n",
    "    \"\"\"Check if the parameter is empty.\"\"\"\n",
    "    return not param\n",
    "\n",
    "# Example Usage:\n",
    "print(_is_empty([]))  \n",
    "print(_is_empty([1, 2, 3]))  \n",
    "print(_is_empty(''))  \n",
    "print(_is_empty('Hello'))  "
   ]
  },
  {
   "cell_type": "code",
   "execution_count": null,
   "metadata": {},
   "outputs": [],
   "source": [
    "# STATISTICAL FUNCTIONS FOR LIST\n",
    "# CALCULATE MEAN \n",
    "\n",
    "def calculate_mean(data):\n",
    "    \"\"\"Calculate the mean of a list.\"\"\"\n",
    "    return sum(data) / len(data)\n",
    "\n",
    "# Example Usage:\n",
    "print(calculate_mean([1, 2, 3, 4, 5]))  \n"
   ]
  },
  {
   "cell_type": "code",
   "execution_count": null,
   "metadata": {},
   "outputs": [],
   "source": [
    "# CALCULATE MEDIAN\n",
    "\n",
    "def calculate_median(data):\n",
    "    \"\"\"Calculate the median of a list.\"\"\"\n",
    "    data.sort()\n",
    "    n = len(data)\n",
    "    mid = n // 2\n",
    "    if n % 2 == 0:\n",
    "        return (data[mid - 1] + data[mid]) / 2\n",
    "    else:\n",
    "        return data[mid]\n",
    "\n",
    "# Example Usage:\n",
    "print(calculate_median([1, 2, 3, 4, 5])) \n",
    "print(calculate_median([1, 2, 3, 4]))  "
   ]
  },
  {
   "cell_type": "code",
   "execution_count": null,
   "metadata": {},
   "outputs": [],
   "source": [
    "# CALCULATE MODE\n",
    "\n",
    "from collections import Counter\n",
    "\n",
    "def calculate_mode(data):\n",
    "    \"\"\"Calculate the mode of a list.\"\"\"\n",
    "    count = Counter(data)\n",
    "    max_count = max(count.values())\n",
    "    mode = [k for k, v in count.items() if v == max_count]\n",
    "    return mode\n",
    "\n",
    "# Example Usage:\n",
    "print(calculate_mode([1, 2, 2, 3, 3, 3, 4])) "
   ]
  },
  {
   "cell_type": "code",
   "execution_count": null,
   "metadata": {},
   "outputs": [],
   "source": [
    "# CALCULATE RANGE\n",
    "\n",
    "def calculate_range(data):\n",
    "    \"\"\"Calculate the range of a list.\"\"\"\n",
    "    return max(data) - min(data)\n",
    "\n",
    "# Example Usage:\n",
    "print(calculate_range([1, 2, 3, 4, 5])) \n"
   ]
  },
  {
   "cell_type": "code",
   "execution_count": null,
   "metadata": {},
   "outputs": [],
   "source": [
    "# CALCULATE VARIANCE\n",
    "\n",
    "def calculate_variance(data):\n",
    "    \"\"\"Calculate the variance of a list.\"\"\"\n",
    "    mean = calculate_mean(data)\n",
    "    return sum((x - mean) ** 2 for x in data) / len(data)\n",
    "\n",
    "# Example Usage:\n",
    "print(calculate_variance([1, 2, 3, 4, 5]))  # Output: 2.0\n"
   ]
  },
  {
   "cell_type": "code",
   "execution_count": null,
   "metadata": {},
   "outputs": [],
   "source": [
    "# CALCULATE STANDARD DEVIATION \n",
    "\n",
    "import math\n",
    "\n",
    "def calculate_std(data):\n",
    "    \"\"\"Calculate the standard deviation of a list.\"\"\"\n",
    "    variance = calculate_variance(data)\n",
    "    return math.sqrt(variance)\n",
    "\n",
    "# Example Usage:\n",
    "print(calculate_std([1, 2, 3, 4, 5]))  # Output: 1.4142135623730951\n"
   ]
  },
  {
   "cell_type": "code",
   "execution_count": null,
   "metadata": {},
   "outputs": [],
   "source": [
    "# EXERCISES 3 \n",
    "# Write a function called is_prime, which checks if a number is prime.\n",
    "\n",
    "def is_prime(n):\n",
    "    \"\"\"Check if a number is prime.\"\"\"\n",
    "    if n <= 1:\n",
    "        return False\n",
    "    for i in range(2, int(n ** 0.5) + 1):\n",
    "        if n % i == 0:\n",
    "            return False\n",
    "    return True\n",
    "\n",
    "# Example Usage:\n",
    "print(is_prime(2))  \n",
    "print(is_prime(4))  \n",
    "print(is_prime(17)) "
   ]
  },
  {
   "cell_type": "code",
   "execution_count": null,
   "metadata": {},
   "outputs": [],
   "source": [
    "# Write a functions which checks if all items are unique in the list.\n",
    "def all_unique(lst):\n",
    "    \"\"\"Check if all items in the list are unique.\"\"\"\n",
    "    return len(lst) == len(set(lst))\n",
    "\n",
    "# Example Usage:\n",
    "print(all_unique([1, 2, 3, 4]))  \n",
    "print(all_unique([1, 2, 2, 4]))  "
   ]
  },
  {
   "cell_type": "code",
   "execution_count": null,
   "metadata": {},
   "outputs": [],
   "source": [
    "#  Write a function which checks if all the items of the list are of the same data type.\n",
    "def all_same_type(lst):\n",
    "    \"\"\"Check if all items in the list are of the same data type.\"\"\"\n",
    "    if not lst:\n",
    "        return True\n",
    "    first_type = type(lst[0])\n",
    "    return all(isinstance(item, first_type) for item in lst)\n",
    "\n",
    "# Example Usage:\n",
    "print(all_same_type([1, 2, 3, 4]))    \n",
    "print(all_same_type([1, '2', 3, 4]))\n"
   ]
  },
  {
   "cell_type": "code",
   "execution_count": null,
   "metadata": {},
   "outputs": [],
   "source": [
    "# Write a function which check if provided variable is a valid python variable\n",
    "import keyword\n",
    "\n",
    "def is_valid_variable(var_name):\n",
    "    \"\"\"Check if a variable name is a valid Python variable.\"\"\"\n",
    "    if not var_name.isidentifier() or keyword.iskeyword(var_name):\n",
    "        return False\n",
    "    return True\n",
    "\n",
    "# Example Usage:\n",
    "print(is_valid_variable(\"variable\"))     \n",
    "print(is_valid_variable(\"123variable\"))  \n",
    "print(is_valid_variable(\"for\"))         \n"
   ]
  }
 ],
 "metadata": {
  "kernelspec": {
   "display_name": ".conda",
   "language": "python",
   "name": "python3"
  },
  "language_info": {
   "codemirror_mode": {
    "name": "ipython",
    "version": 3
   },
   "file_extension": ".py",
   "mimetype": "text/x-python",
   "name": "python",
   "nbconvert_exporter": "python",
   "pygments_lexer": "ipython3",
   "version": "3.12.7"
  }
 },
 "nbformat": 4,
 "nbformat_minor": 2
}
